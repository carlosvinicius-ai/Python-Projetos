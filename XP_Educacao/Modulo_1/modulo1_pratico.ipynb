{
 "cells": [
  {
   "cell_type": "markdown",
   "metadata": {},
   "source": [
    "## Enunciado\n",
    "Neste Trabalho Prático o aluno deverá solucionar problemas simples\n",
    "utilizando a linguagem Python. Serão abordados os conceitos de declaração\n",
    "de variáveis, operadores e estruturas de fluxo de controle. Após praticar, as\n",
    "questões objetivas devem ser respondidas, considerando os elementos\n",
    "apresentados nas atividades abaixo."
   ]
  },
  {
   "cell_type": "code",
   "execution_count": null,
   "metadata": {},
   "outputs": [],
   "source": [
    "# declaração das variáveis\n",
    "inicio = 0\n",
    "fim = 100\n",
    "# verifica quais números são divisíveis por cinco, e exibe aqueles que são\n",
    "for numero in range(inicio, fim):\n",
    "    if numero % 5 == 0:\n",
    "        print(numero)"
   ]
  },
  {
   "cell_type": "markdown",
   "metadata": {},
   "source": [
    "2. Altere o código da atividade 1 para que ele exiba os números múltiplos de \n",
    "2, 5 e 7 (simultaneamente) e que estejam dentro do intervalo entre 100 \n",
    "e 500 (incluindo o 100 e o 500).\n"
   ]
  },
  {
   "cell_type": "code",
   "execution_count": null,
   "metadata": {},
   "outputs": [],
   "source": [
    "# declaração das variáveis\n",
    "inicio = 100\n",
    "fim = 500\n",
    "# verifica quais números são divisíveis por dois, cinco e sete, e exibe aqueles que são\n",
    "for numero in range(inicio, fim + 1):\n",
    "    if numero % 2 == 0 and numero % 5 == 0 and numero % 7 == 0:\n",
    "        print(numero)"
   ]
  },
  {
   "cell_type": "markdown",
   "metadata": {},
   "source": [
    "3. Altere o código da atividade 1, criando uma variável divisor e, em seguida,\n",
    "verifique quais os números no intervalo entre 0 e 1000 (incluindo o 0 e\n",
    "excluindo o 1000) são múltiplos da variável divisor. "
   ]
  },
  {
   "cell_type": "code",
   "execution_count": null,
   "metadata": {},
   "outputs": [],
   "source": [
    "# declaração das variáveis\n",
    "inicio = 0\n",
    "fim = 1000\n",
    "\n",
    "divisor = int(input('Digite o divisor: '))\n",
    "\n",
    "# verifica quais números são divisíveis por dois, cinco e sete, e exibe aqueles que são\n",
    "for numero in range(inicio, fim):\n",
    "    if numero % divisor == 0:\n",
    "        print(numero)"
   ]
  },
  {
   "cell_type": "markdown",
   "metadata": {},
   "source": [
    "4. Crie um código declarando as seguintes variáveis do tipo `string`:\n"
   ]
  },
  {
   "cell_type": "code",
   "execution_count": null,
   "metadata": {},
   "outputs": [],
   "source": [
    "# variáveis do tipo string\n",
    "nome = 'João da Silva'\n",
    "cidade = 'São Paulo'\n",
    "cpf = '123.456.789-00'\n",
    "\n",
    "print(nome.upper())\n",
    "print(cidade.lower())\n",
    "print(nome.find('ã'))\n",
    "print(cidade.find('ã'))\n",
    "print(len(nome))\n",
    "print(len(cidade))\n",
    "cpf_sem_ponto = cpf.replace('.','')\n",
    "cpf_sem_hifen = cpf_sem_ponto.replace('-','')\n",
    "print(cpf_sem_hifen)"
   ]
  },
  {
   "cell_type": "markdown",
   "metadata": {},
   "source": [
    "5. Crie um código que realize o somatório de todos os caracteres da seguinte\n",
    "string:"
   ]
  },
  {
   "cell_type": "code",
   "execution_count": null,
   "metadata": {},
   "outputs": [],
   "source": [
    "numeros = '127957'\n",
    "soma = 0\n",
    "\n",
    "for num in numeros:\n",
    "    int_numero = int(num)\n",
    "    soma += int_numero\n",
    "\n",
    "print(soma)"
   ]
  }
 ],
 "metadata": {
  "kernelspec": {
   "display_name": "Python 3",
   "language": "python",
   "name": "python3"
  },
  "language_info": {
   "codemirror_mode": {
    "name": "ipython",
    "version": 3
   },
   "file_extension": ".py",
   "mimetype": "text/x-python",
   "name": "python",
   "nbconvert_exporter": "python",
   "pygments_lexer": "ipython3",
   "version": "3.12.6"
  },
  "orig_nbformat": 4
 },
 "nbformat": 4,
 "nbformat_minor": 2
}
