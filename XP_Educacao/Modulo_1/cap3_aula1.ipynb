{
 "cells": [
  {
   "cell_type": "markdown",
   "metadata": {},
   "source": [
    "## Aula 01 - Tipos Primitivos de Dados em Python\n",
    "\n",
    "- Tipos primitivos (`int`, `float`, `bool` e `str`)\n",
    "- O tipo especial `NoneType`\n",
    "- A função `type()`"
   ]
  },
  {
   "cell_type": "markdown",
   "metadata": {},
   "source": [
    "### Exemplos do tipo `int`\n"
   ]
  },
  {
   "cell_type": "code",
   "execution_count": 9,
   "metadata": {},
   "outputs": [
    {
     "name": "stdout",
     "output_type": "stream",
     "text": [
      "1 -6 1230488293714314061340381461\n",
      "1230488293714314061340381462\n"
     ]
    }
   ],
   "source": [
    "x = 1\n",
    "y = -6\n",
    "big = 1230488293714314061340381461\n",
    "print(x, y, big)\n",
    "print(big + x)"
   ]
  },
  {
   "cell_type": "markdown",
   "metadata": {},
   "source": [
    "### Exemplos do tipo `float`"
   ]
  },
  {
   "cell_type": "code",
   "execution_count": 10,
   "metadata": {},
   "outputs": [
    {
     "name": "stdout",
     "output_type": "stream",
     "text": [
      "3.1 -3.1 -3.1\n",
      "3.141592\n"
     ]
    }
   ],
   "source": [
    "a = 3.1\n",
    "b = -3.1\n",
    "c = -a\n",
    "pi = 3.141592\n",
    "print(a, b, c)\n",
    "print(pi)"
   ]
  },
  {
   "cell_type": "markdown",
   "metadata": {},
   "source": [
    "### Exemplos tipo `bool`\n"
   ]
  },
  {
   "cell_type": "code",
   "execution_count": 11,
   "metadata": {},
   "outputs": [
    {
     "name": "stdout",
     "output_type": "stream",
     "text": [
      "True\n",
      "False\n"
     ]
    }
   ],
   "source": [
    "habilitado = True\n",
    "pendencias = False\n",
    "print(habilitado)\n",
    "print(pendencias)"
   ]
  },
  {
   "cell_type": "markdown",
   "metadata": {},
   "source": [
    "### Exemplos tipo `String`"
   ]
  },
  {
   "cell_type": "code",
   "execution_count": 12,
   "metadata": {},
   "outputs": [
    {
     "name": "stdout",
     "output_type": "stream",
     "text": [
      "São Paulo  -  Carlos\n",
      "Carlos é um grande jogador de Valorant e nunca perdeu na vida\n"
     ]
    }
   ],
   "source": [
    "nome = 'Carlos'\n",
    "cidade = \"São Paulo\"\n",
    "texto = '''Carlos é um grande jogador de Valorant e nunca perdeu na vida'''\n",
    "print(cidade,' - ', nome)\n",
    "print(texto)"
   ]
  },
  {
   "cell_type": "markdown",
   "metadata": {},
   "source": [
    "### Exemplo tipo `NoneType`"
   ]
  },
  {
   "cell_type": "code",
   "execution_count": 13,
   "metadata": {},
   "outputs": [],
   "source": [
    "j = None"
   ]
  },
  {
   "cell_type": "markdown",
   "metadata": {},
   "source": [
    "### Exemplos da função `type()`"
   ]
  },
  {
   "cell_type": "code",
   "execution_count": 15,
   "metadata": {},
   "outputs": [
    {
     "name": "stdout",
     "output_type": "stream",
     "text": [
      "<class 'int'>\n",
      "<class 'float'>\n",
      "<class 'bool'>\n",
      "<class 'str'>\n",
      "<class 'NoneType'>\n"
     ]
    }
   ],
   "source": [
    "x = 12\n",
    "print(type(x))\n",
    "y = 1.2\n",
    "print(type(y))\n",
    "verdadeiro = True\n",
    "print(type(verdadeiro))\n",
    "nome = 'Carlos'\n",
    "print(type(nome))\n",
    "nada = None\n",
    "print(type(nada))"
   ]
  },
  {
   "cell_type": "code",
   "execution_count": null,
   "metadata": {},
   "outputs": [],
   "source": []
  }
 ],
 "metadata": {
  "kernelspec": {
   "display_name": "Python 3",
   "language": "python",
   "name": "python3"
  },
  "language_info": {
   "codemirror_mode": {
    "name": "ipython",
    "version": 3
   },
   "file_extension": ".py",
   "mimetype": "text/x-python",
   "name": "python",
   "nbconvert_exporter": "python",
   "pygments_lexer": "ipython3",
   "version": "3.10.5"
  },
  "orig_nbformat": 4
 },
 "nbformat": 4,
 "nbformat_minor": 2
}
