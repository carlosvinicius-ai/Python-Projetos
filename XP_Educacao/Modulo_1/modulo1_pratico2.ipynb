{
 "cells": [
  {
   "cell_type": "markdown",
   "metadata": {},
   "source": [
    "## Enunciado\n",
    "\n",
    "Neste desafio o aluno deverá solucionar problemas simples utilizando a\n",
    "linguagem Python. Serão abordados conceitos como: estruturas de dados,\n",
    "funções e módulos. Após praticar, as questões objetivas devem ser\n",
    "respondidas, considerando os elementos apresentados nas atividades abaixo."
   ]
  },
  {
   "cell_type": "markdown",
   "metadata": {},
   "source": [
    "1. Execute e analise a saída do seguinte código"
   ]
  },
  {
   "cell_type": "code",
   "execution_count": null,
   "metadata": {},
   "outputs": [],
   "source": [
    "# relação dos nomes\n",
    "nomes = ['Maria', 'Julieta', 'Fernando', 'Cristiano', 'Julieta', 'Maria', 'Fernando', 'Cláudio']\n",
    "# estrutura que irá armazenar o número de letras de cada nome\n",
    "qtd_letras = {}\n",
    "# calcula o tamanho de cada nome (em número de letras) e armazena o valor na estrutura\n",
    "for nome in nomes:\n",
    " qtd_letras[nome] = len(nome)"
   ]
  },
  {
   "cell_type": "markdown",
   "metadata": {},
   "source": [
    "2. Reescreva o código da Atividade 01 utilizando o conceito de\n",
    "compreensão de dicionários (dict comprehension)."
   ]
  },
  {
   "cell_type": "code",
   "execution_count": null,
   "metadata": {},
   "outputs": [],
   "source": [
    "# relação dos nomes\n",
    "nomes = ['Maria', 'Julieta', 'Fernando', 'Cristiano', 'Julieta', 'Maria', 'Fernando', 'Cláudio']\n",
    "# estrutura que irá armazenar o número de letras de cada nome\n",
    "qtd_letras = {nome: len(nome) for nome in nomes}"
   ]
  },
  {
   "cell_type": "markdown",
   "metadata": {},
   "source": [
    "3. Crie uma função area(r, pi), que calcule a área de um círculo.\n",
    "A área de um círculo é dada por 𝑎 = 𝜋𝑟\n",
    "2\n",
    ", onde:\n",
    "• 𝜋 é o número pi, cujo valor é ~3,14159265359\n",
    "• 𝑟 é o raio do círculo\n",
    "Esta função deve receber dois argumentos, r e pi, e retornar a área de um círculo\n",
    "com raio r. Entretanto, você deve fornecer duas opções de utilização da função:\n",
    "a) A utilização de um valor padrão para pi (𝜋 = 3,14), sem a necessidade de\n",
    "declarar explicitamente o seu valor;\n",
    "b) A utilização com a declaração explicita do valor exato de pi desejado. "
   ]
  },
  {
   "cell_type": "code",
   "execution_count": null,
   "metadata": {},
   "outputs": [],
   "source": [
    "# criando a função para calcular a área\n",
    "def area(r, pi = 3.14):\n",
    "    return pi * r**2\n",
    "\n",
    "# mesmo declarando um valor padrão, não é necessário passar este valor\n",
    "print(area(8, 3.141592))"
   ]
  },
  {
   "cell_type": "markdown",
   "metadata": {},
   "source": [
    "4. Reescreva a função area da atividade 3, utilizando o conceito de\n",
    "funções anônimas (funções lambdas)."
   ]
  },
  {
   "cell_type": "code",
   "execution_count": null,
   "metadata": {},
   "outputs": [],
   "source": [
    "# criando a função em lambda\n",
    "area = lambda r, pi = 3.14: pi * r ** 2\n",
    "\n",
    "print(area(8, 3.141592))"
   ]
  },
  {
   "cell_type": "markdown",
   "metadata": {},
   "source": [
    "5. Considere a seguinte agenda de disponibilidade de atendimento de\n",
    "uma clínica com vários médicos, cada um de uma especialidade distinta. Essa\n",
    "clínica possuí apenas três consultórios, e, por isso, no máximo três médicos podem\n",
    "atender por dia.\n",
    "\n",
    "| Especialidade   | Segunda | Terça | Quarta | Quinta | Sexta |\n",
    "|------------------|---------|-------|--------|--------|-------|\n",
    "| Cardiologista    |         | ✓     | ✓      |        |       |\n",
    "| Ortopedista      |         | ✓     |        | ✓      |       |\n",
    "| Dermatologista   | ✓       | ✓     | ✓      |        | ✓     |\n",
    "| Neurologista     |         |       |        | ✓      | ✓     |\n",
    "| Psiquiatra       | ✓       |       | ✓      |        | ✓     |\n",
    "\n",
    "A clínica percebeu que os pacientes que desejam se consultar com mais de um\n",
    "médico sempre solicitam que o atendimento seja realizado no mesmo dia. Por\n",
    "exemplo, um paciente gostaria de se consultar, no mesmo dia, com o ortopedista\n",
    "e com o neurologista, então os dias disponíveis serão: terça e quinta. Outro\n",
    "exemplo é um paciente que gostaria de se consultar com o dermatologista, o\n",
    "neurologista e o psiquiatra. O único dia disponível será a sexta.\n",
    "\n",
    "\n",
    "Entretanto, essas solicitações estão causando dor de cabeça, pois é necessário\n",
    "verificar manualmente a disponibilidade. Você, como um(a) aspirante a\n",
    "desenvolvedor Python, aceitou o desafio de ajudar a automatizar essa tarefa. Para\n",
    "tanto, irá desenvolver duas funções que receberão a relação de disponibilidade de\n",
    "cada médico e que retornarão os dias disponíveis:\n"
   ]
  },
  {
   "cell_type": "code",
   "execution_count": null,
   "metadata": {},
   "outputs": [],
   "source": [
    "# relação de dias da semana que cada médico atende\n",
    "cardiologista = {'terca', 'quarta'}\n",
    "ortopedista = {'terca', 'quinta'}\n",
    "dermatologista = {'segunda', 'quarta', 'sexta'}\n",
    "neurologista = {'terca', 'quinta', 'sexta'}\n",
    "psiquiatra = {'segunda', 'quarta', 'sexta'}\n",
    "\n",
    "# Calcula quais os dias possíveis para dois médicos\n",
    "def disp_dois_especialistas(medico01, medico02):\n",
    "    print(medico01 & medico02)\n",
    "\n",
    "# Calcula quais os dias possíveis para três médicos\n",
    "def disp_tres_especialistas(medico01, medico02, medico03):\n",
    "    print(medico01.intersection(medico02, medico03))\n",
    "\n",
    "# Retorno das datas disputadas\n",
    "disp_dois_especialistas(neurologista, ortopedista)\n",
    "disp_tres_especialistas(dermatologista, neurologista, psiquiatra)"
   ]
  }
 ],
 "metadata": {
  "language_info": {
   "name": "python"
  }
 },
 "nbformat": 4,
 "nbformat_minor": 2
}
