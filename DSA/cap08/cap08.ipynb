{
 "cells": [
  {
   "cell_type": "markdown",
   "id": "163cc136",
   "metadata": {},
   "source": [
    "# Classes"
   ]
  },
  {
   "cell_type": "code",
   "execution_count": 2,
   "id": "baa39864",
   "metadata": {},
   "outputs": [],
   "source": [
    "class Livro():\n",
    "\n",
    "    # Este método vai inicalizar cada objeto criado a partir desta classe\n",
    "    # (self) é uma referência a cada atributo da própria classe (e não de uma classe mãe, por exemplo)\n",
    "    def __init__(self):\n",
    "        \n",
    "        #Atributos são propriedades\n",
    "        self.titulo = 'Trono de Vidro'\n",
    "        self.isbn = 32391023810\n",
    "        print('Construtor chamando para criar um objeto desta classe')\n",
    "\n",
    "    def imprime(self):\n",
    "        print(f'Foi criado o livro {self.titulo} com ISBN {self.isbn}')"
   ]
  },
  {
   "cell_type": "code",
   "execution_count": 3,
   "id": "9a46c4d0",
   "metadata": {},
   "outputs": [
    {
     "name": "stdout",
     "output_type": "stream",
     "text": [
      "Construtor chamando para criar um objeto desta classe\n"
     ]
    }
   ],
   "source": [
    "# Criando uma instância para a classe Livro\n",
    "Livro1 = Livro()"
   ]
  },
  {
   "cell_type": "code",
   "execution_count": 4,
   "id": "10f08357",
   "metadata": {},
   "outputs": [
    {
     "data": {
      "text/plain": [
       "'Trono de Vidro'"
      ]
     },
     "execution_count": 4,
     "metadata": {},
     "output_type": "execute_result"
    }
   ],
   "source": [
    "Livro1.titulo"
   ]
  },
  {
   "cell_type": "code",
   "execution_count": 6,
   "id": "323361d8",
   "metadata": {},
   "outputs": [
    {
     "name": "stdout",
     "output_type": "stream",
     "text": [
      "Foi criado o livro Trono de Vidro com ISBN 32391023810\n"
     ]
    }
   ],
   "source": [
    "Livro1.imprime()"
   ]
  },
  {
   "cell_type": "code",
   "execution_count": null,
   "id": "1548933b",
   "metadata": {},
   "outputs": [],
   "source": []
  }
 ],
 "metadata": {
  "kernelspec": {
   "display_name": "base",
   "language": "python",
   "name": "python3"
  },
  "language_info": {
   "codemirror_mode": {
    "name": "ipython",
    "version": 3
   },
   "file_extension": ".py",
   "mimetype": "text/x-python",
   "name": "python",
   "nbconvert_exporter": "python",
   "pygments_lexer": "ipython3",
   "version": "3.12.7"
  }
 },
 "nbformat": 4,
 "nbformat_minor": 5
}
