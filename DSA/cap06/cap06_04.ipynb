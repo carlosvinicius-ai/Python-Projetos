{
 "cells": [
  {
   "cell_type": "markdown",
   "id": "b5aac405",
   "metadata": {},
   "source": [
    "# Build-In"
   ]
  },
  {
   "cell_type": "markdown",
   "id": "6802ae1f",
   "metadata": {},
   "source": [
    "## Map\n",
    "\n",
    "A função `map()` em Python é uma função que aplica uma determinada função a cada elemento de uma estrutura interável"
   ]
  },
  {
   "cell_type": "code",
   "execution_count": 3,
   "id": "4bfac99b",
   "metadata": {},
   "outputs": [
    {
     "name": "stdout",
     "output_type": "stream",
     "text": [
      "[1, 2, 3, 4, 5, 6, 7] [1, 8, 27, 64, 125, 216, 343]\n"
     ]
    }
   ],
   "source": [
    "def potencia(x):\n",
    "    return x ** 3\n",
    "\n",
    "numeros = [1, 2, 3, 4, 5, 6, 7]\n",
    "numeros_ao_cubo = list(map(potencia, numeros))\n",
    "print(numeros, numeros_ao_cubo)"
   ]
  },
  {
   "cell_type": "code",
   "execution_count": 6,
   "id": "12b2638a",
   "metadata": {},
   "outputs": [
    {
     "name": "stdout",
     "output_type": "stream",
     "text": [
      "20.0\n",
      "25.0\n",
      "30.0\n",
      "35.0\n",
      "40.0\n"
     ]
    }
   ],
   "source": [
    "def celsius(T):\n",
    "    return (5/9) * (T-32)\n",
    "\n",
    "temperaturas = [68.0, 77.0, 86.0, 95.0, 104.0]\n",
    "\n",
    "# Chamando num laço de repetição\n",
    "for temp in map(celsius, temperaturas):\n",
    "    print(temp)"
   ]
  },
  {
   "cell_type": "code",
   "execution_count": 7,
   "id": "ff6142da",
   "metadata": {},
   "outputs": [
    {
     "data": {
      "text/plain": [
       "[20.0, 25.0, 30.0, 35.0, 40.0]"
      ]
     },
     "execution_count": 7,
     "metadata": {},
     "output_type": "execute_result"
    }
   ],
   "source": [
    "# usando expressão lambda\n",
    "list(map(lambda T: (5/9) * (T-32), temperaturas))"
   ]
  }
 ],
 "metadata": {
  "kernelspec": {
   "display_name": "base",
   "language": "python",
   "name": "python3"
  },
  "language_info": {
   "codemirror_mode": {
    "name": "ipython",
    "version": 3
   },
   "file_extension": ".py",
   "mimetype": "text/x-python",
   "name": "python",
   "nbconvert_exporter": "python",
   "pygments_lexer": "ipython3",
   "version": "3.12.7"
  }
 },
 "nbformat": 4,
 "nbformat_minor": 5
}
